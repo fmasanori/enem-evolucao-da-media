{
 "cells": [
  {
   "cell_type": "code",
   "execution_count": 3,
   "metadata": {},
   "outputs": [
    {
     "name": "stdout",
     "output_type": "stream",
     "text": [
      "Código em execução, aguarde um momento...\n"
     ]
    }
   ],
   "source": [
    "#Guilherme de Paula Romao\n",
    "#Everton Braga\n",
    "\n",
    "#https://www.dropbox.com/s/84jveh6gp1m0579/masanoripybr14.txt?dl=0\n",
    "#http://dontpad.com/masanoriNOSQL\n",
    "\n",
    "#Run \"jupyter notebook\" on the CMD\n",
    "\n",
    "#Imports\n",
    "import pandas as pd\n",
    "import requests\n",
    "import io\n",
    "low_memory=False\n",
    "import folium\n",
    "import zipfile\n",
    "import matplotlib.pyplot as plt\n",
    "import numpy as np\n",
    "from io import StringIO\n",
    "from io import BytesIO\n",
    "from zipfile import ZipFile\n",
    "from urllib.request import urlretrieve\n",
    "from folium import plugins\n",
    "from folium.plugins import HeatMap\n",
    "from IPython.display import Image\n",
    "from urllib.request import urlopen\n",
    "\n",
    "#Aviso: este código demora bastante para ser executado, devido o volume de dados. Paciência.\n",
    "\n",
    "#Download dos arquivos ZIP contendo os dados em tabelas CSV\n",
    "#url2016=\"http://download.inep.gov.br/microdados/microdados_enem2016.zip\"\n",
    "#url2017=\"http://download.inep.gov.br/microdados/microdados_enem2017.zip\"\n",
    "#url2018=\"http://download.inep.gov.br/microdados/microdados_enem2018.zip\"\n",
    "#s2016=requests.get(url2016).content\n",
    "#s2017=requests.get(url2017).content\n",
    "#s2018=requests.get(url2018).content\n",
    "#c=pd.read_csv(io.StringIO(s2016.decode('utf-8')))\n",
    "\n",
    "#abertura de ZIP\n",
    "#resp = urlopen(url2016)\n",
    "#zipfile = ZipFile(BytesIO(resp.read()))\n",
    "#for line in zipfile.open(file).readlines():\n",
    "#    print(line.decode('utf-8'))\n",
    "\n",
    "#Código para leitura de apenas algumas colunas do arquivo CSV dentro do zip (para não estourar a memória), retorna como tabela\n",
    "#df = pd.read_csv(r'C:\\Users\\Aluno\\microdados_educacao_superior_2018\\microdados_ed_superior_2018\\dados\\DM_ALUNO.csv', delimiter='|', encoding='iso-8859-1', usecols=['CO_CURSO', 'TP_COR_RACA', 'IN_DEFICIENCIA', 'TP_SEXO'])\n",
    "#print (df)\n",
    "#df2016 = pd.read_csv(r'C:\\Users\\Aluno\\Microdados_enem_2016\\DADOS\\microdados_enem_2016.csv', delimiter='|', encoding='iso-8859-1', usecols=['NU_NOTA_CN', 'NU_NOTA_CH', 'NU_NOTA_LC', 'NU_NOTA_MT', 'NU_NOTA_REDACAO'])\n",
    "#print(df2016)\n",
    "\n",
    "print ('Código em execução, aguarde um momento...')\n",
    "\n",
    "#Leitura da primeira linha do arquivo CSV (Apenas para fins de teste)\n",
    "#fo = open(r'C:\\Users\\Aluno\\Microdados_enem_2016\\DADOS\\microdados_enem_2016.csv')\n",
    "#print (\"Name of the file: \", fo.name)\n",
    "#line = fo.readline()\n",
    "#print ('Read Line: %s' %(line))\n",
    "#fo.close()\n"
   ]
  },
  {
   "cell_type": "code",
   "execution_count": 4,
   "metadata": {},
   "outputs": [
    {
     "name": "stdout",
     "output_type": "stream",
     "text": [
      "Extraindo dados do arquivo CSV de 2016\n",
      "1/5 concluído\n",
      "2/5 concluído\n",
      "3/5 concluído\n",
      "4/5 concluído\n",
      "5/5 concluído\n"
     ]
    }
   ],
   "source": [
    "#Código para salvar os dados anuais do CSV em variáveis (Para cada matéria)\n",
    "print ('Extraindo dados do arquivo CSV de 2016')\n",
    "df2016_natureza = pd.read_csv(r'C:\\Users\\Aluno\\Microdados_enem_2016\\DADOS\\microdados_enem_2016.csv', delimiter=';', encoding='iso-8859-1', usecols=['NU_NOTA_CN'])\n",
    "print('1/5 concluído')\n",
    "df2016_humanas = pd.read_csv(r'C:\\Users\\Aluno\\Microdados_enem_2016\\DADOS\\microdados_enem_2016.csv', delimiter=';', encoding='iso-8859-1', usecols=['NU_NOTA_CH'])                                                                                                                                           \n",
    "print('2/5 concluído')\n",
    "df2016_linguagens = pd.read_csv(r'C:\\Users\\Aluno\\Microdados_enem_2016\\DADOS\\microdados_enem_2016.csv', delimiter=';', encoding='iso-8859-1', usecols=['NU_NOTA_LC'])                                                                                                                                           \n",
    "print('3/5 concluído')\n",
    "df2016_matematica = pd.read_csv(r'C:\\Users\\Aluno\\Microdados_enem_2016\\DADOS\\microdados_enem_2016.csv', delimiter=';', encoding='iso-8859-1', usecols=['NU_NOTA_MT'])\n",
    "print('4/5 concluído')\n",
    "df2016_redacao = pd.read_csv(r'C:\\Users\\Aluno\\Microdados_enem_2016\\DADOS\\microdados_enem_2016.csv', delimiter=';', encoding='iso-8859-1', usecols=['NU_NOTA_REDACAO'])\n",
    "print('5/5 concluído')\n",
    "#print (df2016_natureza)"
   ]
  },
  {
   "cell_type": "code",
   "execution_count": 8,
   "metadata": {},
   "outputs": [
    {
     "name": "stdout",
     "output_type": "stream",
     "text": [
      "Extraindo dados do arquivo CSV de 2017\n",
      "1/5 concluído\n",
      "2/5 concluído\n",
      "3/5 concluído\n",
      "4/5 concluído\n",
      "5/5 concluído\n"
     ]
    }
   ],
   "source": [
    "#Código para salvar os dados anuais do CSV em variáveis (Para cada matéria)\n",
    "print ('Extraindo dados do arquivo CSV de 2017')\n",
    "df2017_natureza = pd.read_csv(r'C:\\Users\\Aluno\\Microdados_enem_2017\\DADOS\\MICRODADOS_ENEM_2017.csv', delimiter=';', encoding='iso-8859-1', usecols=['NU_NOTA_CN'])\n",
    "print('1/5 concluído')\n",
    "df2017_humanas = pd.read_csv(r'C:\\Users\\Aluno\\Microdados_enem_2017\\DADOS\\MICRODADOS_ENEM_2017.csv', delimiter=';', encoding='iso-8859-1', usecols=['NU_NOTA_CH'])                                                                                                                                           \n",
    "print('2/5 concluído')\n",
    "df2017_linguagens = pd.read_csv(r'C:\\Users\\Aluno\\Microdados_enem_2017\\DADOS\\MICRODADOS_ENEM_2017.csv', delimiter=';', encoding='iso-8859-1', usecols=['NU_NOTA_LC'])                                                                                                                                           \n",
    "print('3/5 concluído')\n",
    "df2017_matematica = pd.read_csv(r'C:\\Users\\Aluno\\Microdados_enem_2017\\DADOS\\MICRODADOS_ENEM_2017.csv', delimiter=';', encoding='iso-8859-1', usecols=['NU_NOTA_MT'])\n",
    "print('4/5 concluído')\n",
    "df2017_redacao = pd.read_csv(r'C:\\Users\\Aluno\\Microdados_enem_2017\\DADOS\\MICRODADOS_ENEM_2017.csv', delimiter=';', encoding='iso-8859-1', usecols=['NU_NOTA_REDACAO'])\n",
    "print('5/5 concluído')\n",
    "#print (df2017_natureza)"
   ]
  },
  {
   "cell_type": "code",
   "execution_count": 9,
   "metadata": {},
   "outputs": [
    {
     "name": "stdout",
     "output_type": "stream",
     "text": [
      "Extraindo dados do arquivo CSV de 2018\n",
      "1/5 concluído\n",
      "2/5 concluído\n",
      "3/5 concluído\n",
      "4/5 concluído\n",
      "5/5 concluído\n"
     ]
    }
   ],
   "source": [
    "#Código para salvar os dados anuais do CSV em variáveis (Para cada matéria)\n",
    "print ('Extraindo dados do arquivo CSV de 2018')\n",
    "df2018_natureza = pd.read_csv(r'C:\\Users\\Aluno\\Microdados_enem_2018\\DADOS\\MICRODADOS_ENEM_2018.csv', delimiter=';', encoding='iso-8859-1', usecols=['NU_NOTA_CN'])\n",
    "print('1/5 concluído')\n",
    "df2018_humanas = pd.read_csv(r'C:\\Users\\Aluno\\Microdados_enem_2018\\DADOS\\MICRODADOS_ENEM_2018.csv', delimiter=';', encoding='iso-8859-1', usecols=['NU_NOTA_CH'])                                                                                                                                           \n",
    "print('2/5 concluído')\n",
    "df2018_linguagens = pd.read_csv(r'C:\\Users\\Aluno\\Microdados_enem_2018\\DADOS\\MICRODADOS_ENEM_2018.csv', delimiter=';', encoding='iso-8859-1', usecols=['NU_NOTA_LC'])                                                                                                                                           \n",
    "print('3/5 concluído')\n",
    "df2018_matematica = pd.read_csv(r'C:\\Users\\Aluno\\Microdados_enem_2018\\DADOS\\MICRODADOS_ENEM_2018.csv', delimiter=';', encoding='iso-8859-1', usecols=['NU_NOTA_MT'])\n",
    "print('4/5 concluído')\n",
    "df2018_redacao = pd.read_csv(r'C:\\Users\\Aluno\\Microdados_enem_2018\\DADOS\\MICRODADOS_ENEM_2018.csv', delimiter=';', encoding='iso-8859-1', usecols=['NU_NOTA_REDACAO'])\n",
    "print('5/5 concluído')\n",
    "#print (df2018_natureza)"
   ]
  },
  {
   "cell_type": "code",
   "execution_count": 10,
   "metadata": {},
   "outputs": [
    {
     "name": "stdout",
     "output_type": "stream",
     "text": [
      "Filtrando dados...\n",
      "Dados de 2016 filtrados\n",
      "Dados de 2017 filtrados\n",
      "Dados de 2018 filtrados\n"
     ]
    }
   ],
   "source": [
    "#Código para filtrar os dados das notas (Repetir código para cada variável de banco criada anteriormente)\n",
    "print ('Filtrando dados...')\n",
    "\n",
    "#Ciências Naturais 2016\n",
    "df2016_natureza = df2016_natureza.apply (pd.to_numeric, errors='coerce')\n",
    "df2016_natureza = df2016_natureza.dropna()\n",
    "df2016_natureza = df2016_natureza.reset_index(drop=True)\n",
    "#Ciências Humanas 2016\n",
    "df2016_humanas = df2016_humanas.apply (pd.to_numeric, errors='coerce')\n",
    "df2016_humanas = df2016_humanas.dropna()\n",
    "df2016_humanas = df2016_humanas.reset_index(drop=True)\n",
    "#Linguística 2016\n",
    "df2016_linguagens = df2016_linguagens.apply (pd.to_numeric, errors='coerce')\n",
    "df2016_linguagens = df2016_linguagens.dropna()\n",
    "df2016_linguagens = df2016_linguagens.reset_index(drop=True)\n",
    "#Matemática 2016\n",
    "df2016_matematica = df2016_matematica.apply (pd.to_numeric, errors='coerce')\n",
    "df2016_matematica = df2016_matematica.dropna()\n",
    "df2016_matematica = df2016_matematica.reset_index(drop=True)\n",
    "#Redação 2016\n",
    "df2016_redacao = df2016_redacao.apply (pd.to_numeric, errors='coerce')\n",
    "df2016_redacao = df2016_redacao.dropna()\n",
    "df2016_redacao = df2016_redacao.reset_index(drop=True)\n",
    "print ('Dados de 2016 filtrados')\n",
    "\n",
    "#Ciências Naturais 2017\n",
    "df2017_natureza = df2017_natureza.apply (pd.to_numeric, errors='coerce')\n",
    "df2017_natureza = df2017_natureza.dropna()\n",
    "df2017_natureza = df2017_natureza.reset_index(drop=True)\n",
    "#Ciências Humanas 2017\n",
    "df2017_humanas = df2017_humanas.apply (pd.to_numeric, errors='coerce')\n",
    "df2017_humanas = df2017_humanas.dropna()\n",
    "df2017_humanas = df2017_humanas.reset_index(drop=True)\n",
    "#Linguística 2017\n",
    "df2017_linguagens = df2017_linguagens.apply (pd.to_numeric, errors='coerce')\n",
    "df2017_linguagens = df2017_linguagens.dropna()\n",
    "df2017_linguagens = df2017_linguagens.reset_index(drop=True)\n",
    "#Matemática 2017\n",
    "df2017_matematica = df2017_matematica.apply (pd.to_numeric, errors='coerce')\n",
    "df2017_matematica = df2017_matematica.dropna()\n",
    "df2017_matematica = df2017_matematica.reset_index(drop=True)\n",
    "#Redação 2017\n",
    "df2017_redacao = df2017_redacao.apply (pd.to_numeric, errors='coerce')\n",
    "df2017_redacao = df2017_redacao.dropna()\n",
    "df2017_redacao = df2017_redacao.reset_index(drop=True)\n",
    "print ('Dados de 2017 filtrados')\n",
    "\n",
    "#Ciências Naturais 2018\n",
    "df2018_natureza = df2018_natureza.apply (pd.to_numeric, errors='coerce')\n",
    "df2018_natureza = df2018_natureza.dropna()\n",
    "df2018_natureza = df2018_natureza.reset_index(drop=True)\n",
    "#Ciências Humanas 2018\n",
    "df2018_humanas = df2018_humanas.apply (pd.to_numeric, errors='coerce')\n",
    "df2018_humanas = df2018_humanas.dropna()\n",
    "df2018_humanas = df2018_humanas.reset_index(drop=True)\n",
    "#Linguística 2018\n",
    "df2018_linguagens = df2018_linguagens.apply (pd.to_numeric, errors='coerce')\n",
    "df2018_linguagens = df2018_linguagens.dropna()\n",
    "df2018_linguagens = df2018_linguagens.reset_index(drop=True)\n",
    "#Matemática 2018\n",
    "df2018_matematica = df2018_matematica.apply (pd.to_numeric, errors='coerce')\n",
    "df2018_matematica = df2018_matematica.dropna()\n",
    "df2018_matematica = df2018_matematica.reset_index(drop=True)\n",
    "#Redação 2018\n",
    "df2018_redacao = df2018_redacao.apply (pd.to_numeric, errors='coerce')\n",
    "df2018_redacao = df2018_redacao.dropna()\n",
    "df2018_redacao = df2018_redacao.reset_index(drop=True)\n",
    "print ('Dados de 2018 filtrados')"
   ]
  },
  {
   "cell_type": "code",
   "execution_count": 11,
   "metadata": {},
   "outputs": [
    {
     "name": "stdout",
     "output_type": "stream",
     "text": [
      "Ano 2016\n"
     ]
    }
   ],
   "source": [
    "#Código para cálculo das médias por ano\n",
    "#Retorna o nome da tabela e a média\n",
    "print ('Ano 2016')"
   ]
  },
  {
   "cell_type": "code",
   "execution_count": 12,
   "metadata": {},
   "outputs": [
    {
     "name": "stdout",
     "output_type": "stream",
     "text": [
      "Média das notas na competência de Ciências Naturais:\n"
     ]
    },
    {
     "data": {
      "text/plain": [
       "463.2"
      ]
     },
     "execution_count": 12,
     "metadata": {},
     "output_type": "execute_result"
    }
   ],
   "source": [
    "print ('Média das notas na competência de Ciências Naturais:')\n",
    "df2016_natureza.median().iat[0]"
   ]
  },
  {
   "cell_type": "code",
   "execution_count": 13,
   "metadata": {},
   "outputs": [
    {
     "name": "stdout",
     "output_type": "stream",
     "text": [
      "Média das notas na competência de Ciências Humanas:\n"
     ]
    },
    {
     "data": {
      "text/plain": [
       "537.3"
      ]
     },
     "execution_count": 13,
     "metadata": {},
     "output_type": "execute_result"
    }
   ],
   "source": [
    "print ('Média das notas na competência de Ciências Humanas:')\n",
    "df2016_humanas.median().iat[0]"
   ]
  },
  {
   "cell_type": "code",
   "execution_count": 14,
   "metadata": {},
   "outputs": [
    {
     "name": "stdout",
     "output_type": "stream",
     "text": [
      "Média das notas na competência de Linguística:\n"
     ]
    },
    {
     "data": {
      "text/plain": [
       "525.1"
      ]
     },
     "execution_count": 14,
     "metadata": {},
     "output_type": "execute_result"
    }
   ],
   "source": [
    "print ('Média das notas na competência de Linguística:')\n",
    "df2016_linguagens.median().iat[0]"
   ]
  },
  {
   "cell_type": "code",
   "execution_count": 15,
   "metadata": {},
   "outputs": [
    {
     "name": "stdout",
     "output_type": "stream",
     "text": [
      "Média das notas na competência de Matemática:\n"
     ]
    },
    {
     "data": {
      "text/plain": [
       "468.1"
      ]
     },
     "execution_count": 15,
     "metadata": {},
     "output_type": "execute_result"
    }
   ],
   "source": [
    "print ('Média das notas na competência de Matemática:')\n",
    "df2016_matematica.median().iat[0]"
   ]
  },
  {
   "cell_type": "code",
   "execution_count": 16,
   "metadata": {},
   "outputs": [
    {
     "name": "stdout",
     "output_type": "stream",
     "text": [
      "Média das notas da redação:\n"
     ]
    },
    {
     "data": {
      "text/plain": [
       "540.0"
      ]
     },
     "execution_count": 16,
     "metadata": {},
     "output_type": "execute_result"
    }
   ],
   "source": [
    "print ('Média das notas da redação:')\n",
    "df2016_redacao.median().iat[0]"
   ]
  },
  {
   "cell_type": "code",
   "execution_count": 22,
   "metadata": {},
   "outputs": [
    {
     "data": {
      "text/plain": [
       "Text(0.5, 1.0, 'Média de Notas Enem 2016')"
      ]
     },
     "execution_count": 22,
     "metadata": {},
     "output_type": "execute_result"
    },
    {
     "data": {
      "image/png": "[encoded data removed]",
      "text/plain": [
       "<Figure size 432x288 with 1 Axes>"
      ]
     },
     "metadata": {
      "needs_background": "light"
     },
     "output_type": "display_data"
    }
   ],
   "source": [
    "#Código para criação do gráfico\n",
    "height = [df2016_natureza.median().iat[0],\n",
    "          df2016_humanas.median().iat[0],\n",
    "          df2016_linguagens.median().iat[0],\n",
    "          df2016_matematica.median().iat[0],\n",
    "          df2016_redacao.median().iat[0]]\n",
    "bars = ('Ciências naturais', 'Ciências humanas', 'Linguística', 'Matemática', 'Redação')\n",
    "y_pos = np.arange(len(bars))\n",
    "plt.bar(y_pos, height, color=(0.2, 0.4, 0.6, 0.6))\n",
    "names = ('Ciências naturais', 'Ciências humanas', 'Linguística', 'Matemática', 'Redação')\n",
    "plt.xticks(y_pos, names, rotation=90)\n",
    "plt.subplots_adjust(bottom=0.4)\n",
    "plt.ylim(0,1000)\n",
    "\n",
    "plt.title('Média de Notas Enem 2016', fontweight='bold', color = 'green', fontsize='17', horizontalalignment='center')\n"
   ]
  },
  {
   "cell_type": "code",
   "execution_count": 23,
   "metadata": {},
   "outputs": [
    {
     "data": {
      "text/plain": [
       "Text(0.5, 1.0, 'Evolução das notas de ciências naturais')"
      ]
     },
     "execution_count": 23,
     "metadata": {},
     "output_type": "execute_result"
    },
    {
     "data": {
      "image/png": "[encoded data removed]",
      "text/plain": [
       "<Figure size 432x288 with 1 Axes>"
      ]
     },
     "metadata": {
      "needs_background": "light"
     },
     "output_type": "display_data"
    }
   ],
   "source": [
    "#Código para criação do gráfico\n",
    "height = [df2016_natureza.median().iat[0],\n",
    "          df2017_natureza.median().iat[0],\n",
    "          df2018_natureza.median().iat[0]]\n",
    "bars = ('2016', '2017', '2018')\n",
    "y_pos = np.arange(len(bars))\n",
    "plt.bar(y_pos, height, color=(0.2, 0.4, 0.6, 0.6))\n",
    "names = ('2016', '2017', '2018')\n",
    "plt.xticks(y_pos, names, rotation=90)\n",
    "plt.subplots_adjust(bottom=0.4)\n",
    "plt.ylim(0,1000)\n",
    "\n",
    "plt.title('Evolução das notas de ciências naturais', fontweight='bold', color = 'green', fontsize='17', horizontalalignment='center')\n"
   ]
  },
  {
   "cell_type": "code",
   "execution_count": 24,
   "metadata": {},
   "outputs": [
    {
     "data": {
      "text/plain": [
       "Text(0.5, 1.0, 'Evolução das notas de ciências humanas')"
      ]
     },
     "execution_count": 24,
     "metadata": {},
     "output_type": "execute_result"
    },
    {
     "data": {
      "image/png": "[encoded data removed]",
      "text/plain": [
       "<Figure size 432x288 with 1 Axes>"
      ]
     },
     "metadata": {
      "needs_background": "light"
     },
     "output_type": "display_data"
    }
   ],
   "source": [
    "#Código para criação do gráfico\n",
    "height = [df2016_humanas.median().iat[0],\n",
    "          df2017_humanas.median().iat[0],\n",
    "          df2018_humanas.median().iat[0]]\n",
    "bars = ('2016', '2017', '2018')\n",
    "y_pos = np.arange(len(bars))\n",
    "plt.bar(y_pos, height, color=(0.2, 0.4, 0.6, 0.6))\n",
    "names = ('2016', '2017', '2018')\n",
    "plt.xticks(y_pos, names, rotation=90)\n",
    "plt.subplots_adjust(bottom=0.4)\n",
    "plt.ylim(0,1000)\n",
    "\n",
    "plt.title('Evolução das notas de ciências humanas', fontweight='bold', color = 'green', fontsize='17', horizontalalignment='center')\n"
   ]
  },
  {
   "cell_type": "code",
   "execution_count": 25,
   "metadata": {},
   "outputs": [
    {
     "data": {
      "text/plain": [
       "Text(0.5, 1.0, 'Evolução das notas de linguística')"
      ]
     },
     "execution_count": 25,
     "metadata": {},
     "output_type": "execute_result"
    },
    {
     "data": {
      "image/png": "[encoded data removed]",
      "text/plain": [
       "<Figure size 432x288 with 1 Axes>"
      ]
     },
     "metadata": {
      "needs_background": "light"
     },
     "output_type": "display_data"
    }
   ],
   "source": [
    "#Código para criação do gráfico\n",
    "height = [df2016_linguagens.median().iat[0],\n",
    "          df2017_linguagens.median().iat[0],\n",
    "          df2018_linguagens.median().iat[0]]\n",
    "bars = ('2016', '2017', '2018')\n",
    "y_pos = np.arange(len(bars))\n",
    "plt.bar(y_pos, height, color=(0.2, 0.4, 0.6, 0.6))\n",
    "names = ('2016', '2017', '2018')\n",
    "plt.xticks(y_pos, names, rotation=90)\n",
    "plt.subplots_adjust(bottom=0.4)\n",
    "plt.ylim(0,1000)\n",
    "\n",
    "plt.title('Evolução das notas de linguística', fontweight='bold', color = 'green', fontsize='17', horizontalalignment='center')\n"
   ]
  },
  {
   "cell_type": "code",
   "execution_count": 26,
   "metadata": {},
   "outputs": [
    {
     "data": {
      "text/plain": [
       "Text(0.5, 1.0, 'Evolução das notas de matemática')"
      ]
     },
     "execution_count": 26,
     "metadata": {},
     "output_type": "execute_result"
    },
    {
     "data": {
      "image/png": "[encoded data removed]",
      "text/plain": [
       "<Figure size 432x288 with 1 Axes>"
      ]
     },
     "metadata": {
      "needs_background": "light"
     },
     "output_type": "display_data"
    }
   ],
   "source": [
    "#Código para criação do gráfico\n",
    "height = [df2016_matematica.median().iat[0],\n",
    "          df2017_matematica.median().iat[0],\n",
    "          df2018_matematica.median().iat[0]]\n",
    "bars = ('2016', '2017', '2018')\n",
    "_poys = np.arange(len(bars))\n",
    "plt.bar(y_pos, height, color=(0.2, 0.4, 0.6, 0.6))\n",
    "names = ('2016', '2017', '2018')\n",
    "plt.xticks(y_pos, names, rotation=90)\n",
    "plt.subplots_adjust(bottom=0.4)\n",
    "plt.ylim(0,1000)\n",
    "\n",
    "plt.title('Evolução das notas de matemática', fontweight='bold', color = 'green', fontsize='17', horizontalalignment='center')\n"
   ]
  },
  {
   "cell_type": "code",
   "execution_count": 27,
   "metadata": {},
   "outputs": [
    {
     "data": {
      "text/plain": [
       "Text(0.5, 1.0, 'Evolução das notas de redacao')"
      ]
     },
     "execution_count": 27,
     "metadata": {},
     "output_type": "execute_result"
    },
    {
     "data": {
      "image/png": "[encoded data removed]",
      "text/plain": [
       "<Figure size 432x288 with 1 Axes>"
      ]
     },
     "metadata": {
      "needs_background": "light"
     },
     "output_type": "display_data"
    }
   ],
   "source": [
    "#Código para criação do gráfico\n",
    "height = [df2016_redacao.median().iat[0],\n",
    "          df2017_redacao.median().iat[0],\n",
    "          df2018_redacao.median().iat[0]]\n",
    "bars = ('2016', '2017', '2018')\n",
    "_poys = np.arange(len(bars))\n",
    "plt.bar(y_pos, height, color=(0.2, 0.4, 0.6, 0.6))\n",
    "names = ('2016', '2017', '2018')\n",
    "plt.xticks(y_pos, names, rotation=90)\n",
    "plt.subplots_adjust(bottom=0.4)\n",
    "plt.ylim(0,1000)\n",
    "\n",
    "plt.title('Evolução das notas de redacao', fontweight='bold', color = 'green', fontsize='17', horizontalalignment='center')\n"
   ]
  }
 ],
 "metadata": {
  "kernelspec": {
   "display_name": "Python 3",
   "language": "python",
   "name": "python3"
  },
  "language_info": {
   "codemirror_mode": {
    "name": "ipython",
    "version": 3
   },
   "file_extension": ".py",
   "mimetype": "text/x-python",
   "name": "python",
   "nbconvert_exporter": "python",
   "pygments_lexer": "ipython3",
   "version": "3.7.3"
  }
 },
 "nbformat": 4,
 "nbformat_minor": 2
}
