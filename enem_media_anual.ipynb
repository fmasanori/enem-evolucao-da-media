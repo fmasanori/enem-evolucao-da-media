{
 "cells": [
  {
   "cell_type": "code",
   "execution_count": null,
   "metadata": {},
   "outputs": [],
   "source": [
    "#Guilherme de Paula Romao\n",
    "#Everton Braga\n",
    "\n",
    "#https://www.dropbox.com/s/84jveh6gp1m0579/masanoripybr14.txt?dl=0\n",
    "#http://dontpad.com/masanoriNOSQL\n",
    "\n",
    "import pandas as pd\n",
    "import requests\n",
    "import io\n",
    "low_memory=False\n",
    "import folium\n",
    "from zipfile import ZipFile\n",
    "from urllib.request import urlretrieve\n",
    "from folium import plugins\n",
    "from folium.plugins import HeatMap\n",
    "from IPython.display import Image\n",
    "\n",
    "url2016=\"http://download.inep.gov.br/microdados/microdados_enem2016.zip\"\n",
    "url2017=\"http://download.inep.gov.br/microdados/microdados_enem2017.zip\"\n",
    "url2018=\"http://download.inep.gov.br/microdados/microdados_enem2018.zip\"\n",
    "s2016=requests.get(url1).content\n",
    "s2017=requests.get(url2).content\n",
    "s2018=requests.get(url3).content\n",
    "c=pd.read_csv(io.StringIO(s.decode('utf-8')))\n",
    "\n",
    "files = os.listdir(\".\")\n",
    "for f in files:\n",
    "  if f.endswith('.zip'):\n",
    "    try:\n",
    "      print (f)\n",
    "      z = ZipFile(f, 'r')\n",
    "      z.extractall('Filiados')\n",
    "      z.close()\n",
    "    except:\n",
    "      print (f'{f} está com erro')\n",
    "\n"
   ]
  }
 ],
 "metadata": {
  "kernelspec": {
   "display_name": "Python 3",
   "language": "python",
   "name": "python3"
  },
  "language_info": {
   "codemirror_mode": {
    "name": "ipython",
    "version": 3
   },
   "file_extension": ".py",
   "mimetype": "text/x-python",
   "name": "python",
   "nbconvert_exporter": "python",
   "pygments_lexer": "ipython3",
   "version": "3.7.3"
  }
 },
 "nbformat": 4,
 "nbformat_minor": 2
}
